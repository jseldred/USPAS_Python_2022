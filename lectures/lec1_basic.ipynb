{
 "cells": [
  {
   "cell_type": "markdown",
   "metadata": {},
   "source": [
    "Demonstration of the some basic Python operatings"
   ]
  },
  {
   "cell_type": "markdown",
   "metadata": {},
   "source": [
    "Variables"
   ]
  },
  {
   "cell_type": "code",
   "execution_count": 38,
   "metadata": {},
   "outputs": [],
   "source": [
    "#no need to declare variables, they will automatically come into existence with the corresponding data type.\n",
    "#this is a float, integer, string, respectively\n",
    "x = 1\n",
    "y = 2.0\n",
    "z = 'cat'\n",
    "b = True"
   ]
  },
  {
   "cell_type": "code",
   "execution_count": 39,
   "metadata": {},
   "outputs": [
    {
     "name": "stdout",
     "output_type": "stream",
     "text": [
      "2.0\n",
      "1\n"
     ]
    }
   ],
   "source": [
    "#you can output the value of things, and it will keep the format \n",
    "print(y)\n",
    "print(x)"
   ]
  },
  {
   "cell_type": "code",
   "execution_count": 40,
   "metadata": {},
   "outputs": [],
   "source": [
    "#if you need to delete a variable for space you can use del, but usually its better to just keep everything around.\n",
    "del b"
   ]
  },
  {
   "cell_type": "code",
   "execution_count": 41,
   "metadata": {},
   "outputs": [
    {
     "name": "stdout",
     "output_type": "stream",
     "text": [
      "4\n",
      "4\n",
      "4\n"
     ]
    }
   ],
   "source": [
    "#Here equal sign means 'take the value of the thing on the right, set the variable on the left to that value'\n",
    "x = x + 3\n",
    "print(x)\n",
    "y = x\n",
    "print(y)\n",
    "print(x)"
   ]
  },
  {
   "cell_type": "code",
   "execution_count": 43,
   "metadata": {},
   "outputs": [
    {
     "name": "stdout",
     "output_type": "stream",
     "text": [
      "cat in a hat\n",
      "The value of pi is approximately 3.14159265\n",
      "The value of pi is approximately 3.14\n",
      "11\n"
     ]
    }
   ],
   "source": [
    "#when you use plus with a string, it concatenates\n",
    "w = z + ' in a hat'\n",
    "print(w)\n",
    "#you can include numbers if you use str\n",
    "p = 3.14159265\n",
    "out = 'The value of pi is approximately ' + str(p)\n",
    "print(out)\n",
    "#but you may want to round the numbers before you do so.\n",
    "#the first argument of round is the number to be rounded, the second is the number of digits to round it to\n",
    "out = 'The value of pi is approximately ' + str(round(p,2))\n",
    "print(out)\n",
    "#you can also take numerical characters and use them as numbers\n",
    "s = '10'\n",
    "s = int(s) + 1\n",
    "print(s)"
   ]
  },
  {
   "cell_type": "markdown",
   "metadata": {},
   "source": [
    "Lists"
   ]
  },
  {
   "cell_type": "code",
   "execution_count": 19,
   "metadata": {},
   "outputs": [
    {
     "name": "stdout",
     "output_type": "stream",
     "text": [
      "2\n",
      "6\n",
      "22\n",
      "8\n",
      "[2, 4, 6, 8, -3, 22]\n",
      "[4, 6, 8]\n",
      "[2, 4]\n",
      "[2, 4]\n",
      "[8, -3, 22]\n",
      "[8, -3, 22]\n",
      "[2, 6, -3]\n",
      "22\n",
      "-3\n"
     ]
    }
   ],
   "source": [
    "#you can define lists\n",
    "x = [2, 4, 6, 8, -3, 22]\n",
    "#when I set x to a new value, the old value was forgotten\n",
    "#you refer to an element of array with an index that starts at zero\n",
    "print(x[0])\n",
    "#len gives the length of the list\n",
    "print(len(x))\n",
    "#the index of the last element is one less than that\n",
    "print(x[5])\n",
    "#you can also use a variable as an index, if it is an integer\n",
    "y = 3\n",
    "print(x[y])\n",
    "#referring to a range of values, start at the index of the first number end at index before the last one\n",
    "print(x)\n",
    "print(x[1:4])\n",
    "#leaving no first number is equivalent to using 0, the first element\n",
    "print(x[0:2])\n",
    "print(x[:2])\n",
    "#leaving no second number is equivalent to using len(x)\n",
    "print(x[3:len(x)])\n",
    "print(x[3:])\n",
    "#you can use a third number to specify a step size\n",
    "print(x[0:5:2])\n",
    "#you can use -1 to specify last element\n",
    "#you can use -2 to specify next to last element and so on\n",
    "print(x[-1])\n",
    "print(x[-2])"
   ]
  },
  {
   "cell_type": "markdown",
   "metadata": {},
   "source": [
    "Numpy arrays"
   ]
  },
  {
   "cell_type": "code",
   "execution_count": 20,
   "metadata": {},
   "outputs": [
    {
     "name": "stdout",
     "output_type": "stream",
     "text": [
      "[2, 4, 6, 8, -3, 22, 2, 4, 6, 8, -3, 22]\n",
      "[ 2  4  6  8 -3 22]\n",
      "[ 4  8 12 16 -6 44]\n",
      "[ 5  7  9 11  0 25]\n"
     ]
    }
   ],
   "source": [
    "#It would be nice to treat a list like a vector, but arithmetic operations do not work on lists\n",
    "#For instances, if I do 2*x the result is surprising\n",
    "print(x*2)\n",
    "#if I were to do x+3, it would throw an error.\n",
    "#so we can use numpy arrays for this.\n",
    "#first we import the numpy package\n",
    "import numpy as np\n",
    "# the 'as np' part means that we can refer to numpy with the abbreviation np.\n",
    "#now we cast x as a numpy array\n",
    "x = np.array(x)\n",
    "#now arithmetic operations will work as expected\n",
    "print(x)\n",
    "print(2*x)\n",
    "print(x+3)\n",
    "#we'll come back to numpy arrays"
   ]
  },
  {
   "cell_type": "markdown",
   "metadata": {},
   "source": [
    "If Statements"
   ]
  },
  {
   "cell_type": "code",
   "execution_count": 21,
   "metadata": {},
   "outputs": [
    {
     "name": "stdout",
     "output_type": "stream",
     "text": [
      "Yes, 2>1\n",
      "Yes, 3>=2\n",
      "Yes, 2 is exactly 2\n",
      "Yes both\n",
      "Yes, 3 is not less than 2\n",
      "Truthfully, both 3 and 4 are greater than 2.\n",
      "Yes\n"
     ]
    }
   ],
   "source": [
    "#if statements are followed by a colon\n",
    "#the conditionally executed statements use an indent\n",
    "if (2>1):\n",
    "    print('Yes, 2>1')\n",
    "\n",
    "#the size of the indent doesn't matter, tab or spaces, so long as you don't change it\n",
    "#you don't have to use parentheses either\n",
    "#>= greater than equal\n",
    "#== exactly equal to (note, don't use '=' for if statements)\n",
    "#!= not equal to\n",
    "x=3\n",
    "y=2\n",
    "if x>=y:\n",
    "  print('Yes, 3>=2')\n",
    "\n",
    "z=2.0\n",
    "if (y==z):\n",
    "  print('Yes, 2 is exactly 2')\n",
    "\n",
    "# and there is of course there is booleans\n",
    "#'and' is and, 'or' is or, 'not' is not\n",
    "if (x>=y) and (y==z):\n",
    "  print('Yes both')\n",
    "\n",
    "if not (x<y):\n",
    "  print('Yes, 3 is not less than 2')\n",
    "\n",
    "#There is also else and elif (else if)\n",
    "if (4<2):\n",
    "  print('Surprisingly, 4 < 2?')\n",
    "elif (3<2):\n",
    "  print('Actually, 3 < 2?')\n",
    "else:\n",
    "  print('Truthfully, both 3 and 4 are greater than 2.')\n",
    "\n",
    "#a value of 1 is equivalent to a boolean true value\n",
    "x = 1.0\n",
    "if x:\n",
    "  print('Yes')"
   ]
  },
  {
   "cell_type": "markdown",
   "metadata": {},
   "source": [
    "For Statements"
   ]
  },
  {
   "cell_type": "code",
   "execution_count": 22,
   "metadata": {},
   "outputs": [
    {
     "name": "stdout",
     "output_type": "stream",
     "text": [
      "0\n",
      "1\n",
      "2\n",
      "3\n",
      "4\n",
      "5\n",
      "6\n",
      "7\n",
      "8\n",
      "9\n"
     ]
    }
   ],
   "source": [
    "#the classic formulation is a loop variable counting up from 0 to some number\n",
    "#identation is also used to identify whether it is part of the loop\n",
    "for lp in range(10):\n",
    "  print(lp)"
   ]
  },
  {
   "cell_type": "code",
   "execution_count": 23,
   "metadata": {},
   "outputs": [
    {
     "name": "stdout",
     "output_type": "stream",
     "text": [
      "2\n",
      "4\n",
      "6\n",
      "8\n",
      "-3\n",
      "22\n"
     ]
    }
   ],
   "source": [
    "#Here lp is the loop variable (I usually avoid i and j because of complex numbers)\n",
    "#just like array indexing, starts with 0 and goes to 9.\n",
    "x = [2, 4, 6, 8, -3, 22]\n",
    "for lp in range(len(x)):\n",
    "  print(x[lp])"
   ]
  },
  {
   "cell_type": "code",
   "execution_count": 24,
   "metadata": {},
   "outputs": [
    {
     "name": "stdout",
     "output_type": "stream",
     "text": [
      "2\n",
      "4\n",
      "6\n",
      "8\n",
      "-3\n",
      "22\n"
     ]
    }
   ],
   "source": [
    "#actually, you can use any list or array as a sequence for the loop variable\n",
    "for xlp in x:\n",
    "  print(xlp)"
   ]
  },
  {
   "cell_type": "code",
   "execution_count": 25,
   "metadata": {},
   "outputs": [
    {
     "name": "stdout",
     "output_type": "stream",
     "text": [
      "[2 5 8]\n",
      "2\n",
      "5\n",
      "8\n"
     ]
    }
   ],
   "source": [
    "#you can use numpy to all define custom ranges and iterators\n",
    "#we already imported numpy, so we don't have to do it again\n",
    "print(np.arange(2,10,3))\n",
    "for lp in np.arange(2,10,3):\n",
    "  print(lp)"
   ]
  },
  {
   "cell_type": "code",
   "execution_count": 30,
   "metadata": {},
   "outputs": [
    {
     "name": "stdout",
     "output_type": "stream",
     "text": [
      "lp and lp2 value is 0\n",
      "lp value is 0\n",
      "lp and lp2 value is 1\n",
      "lp value is 1\n",
      "lp and lp2 value is 2\n",
      "lp value is 2\n",
      "lp and lp2 value is 3\n",
      "lp value is 3\n",
      "lp value is 4\n",
      "lp value is 5\n",
      "lp value is 6\n",
      "lp value is 7\n",
      "lp value is 8\n",
      "lp value is 9\n"
     ]
    }
   ],
   "source": [
    "#notice arange has the same format as list iterators 2:10:3\n",
    "#we can nest loops and ifs, so long as we keep track of the indents\n",
    "for lp in range(10):\n",
    "  for lp2 in range(4):\n",
    "    if (lp == lp2):\n",
    "      print('lp and lp2 value is ' + str(lp))\n",
    "  print('lp value is ' + str(lp))"
   ]
  },
  {
   "cell_type": "markdown",
   "metadata": {},
   "source": [
    "While Statements"
   ]
  },
  {
   "cell_type": "code",
   "execution_count": 31,
   "metadata": {},
   "outputs": [
    {
     "name": "stdout",
     "output_type": "stream",
     "text": [
      "0\n",
      "1\n",
      "2\n",
      "3\n",
      "4\n",
      "5\n",
      "6\n",
      "7\n",
      "8\n",
      "9\n"
     ]
    }
   ],
   "source": [
    "#while statements continue to loop as long as the statement is true\n",
    "#to avoid having the loop occur infinitely, its useful to define a loop variable and manually iterate it\n",
    "lp=0\n",
    "while (lp < 10):\n",
    "  print(lp)\n",
    "  lp += 1"
   ]
  },
  {
   "cell_type": "code",
   "execution_count": 32,
   "metadata": {},
   "outputs": [
    {
     "name": "stdout",
     "output_type": "stream",
     "text": [
      "0\n",
      "1\n",
      "2\n",
      "3\n",
      "4\n",
      "Found the 4!\n"
     ]
    }
   ],
   "source": [
    "#another comment technique is to use a loop flag, which breaks the loop\n",
    "lpflag = 1\n",
    "lp = 0\n",
    "while (lpflag and lp < 1000):\n",
    "  print(lp)\n",
    "  if (lp == 4):\n",
    "    print('Found the 4!')\n",
    "    lpflag = 0\n",
    "  lp += 1"
   ]
  },
  {
   "cell_type": "code",
   "execution_count": 33,
   "metadata": {},
   "outputs": [
    {
     "name": "stdout",
     "output_type": "stream",
     "text": [
      "0\n",
      "1\n",
      "2\n",
      "3\n",
      "4\n",
      "Found the 4!\n"
     ]
    }
   ],
   "source": [
    "#another variation is to use a break statement\n",
    "lp = 0\n",
    "while (lp<1000):\n",
    "  print(lp)\n",
    "  if (lp == 4):\n",
    "    print('Found the 4!')\n",
    "    break\n",
    "  lp += 1\n",
    "\n",
    "#a while statement will do not run if it is not true to begin with\n",
    "while (2 < 1):\n",
    "  print('Surprising!')"
   ]
  },
  {
   "cell_type": "markdown",
   "metadata": {},
   "source": [
    "Functions"
   ]
  },
  {
   "cell_type": "code",
   "execution_count": 34,
   "metadata": {},
   "outputs": [
    {
     "name": "stdout",
     "output_type": "stream",
     "text": [
      "Hello!\n",
      "4\n",
      "4\n",
      "7.0\n",
      "7.0\n",
      "11.0\n"
     ]
    }
   ],
   "source": [
    "#here is a function that does a thing, but does not return any values\n",
    "def sayhello():\n",
    "  print('Hello!')\n",
    "\n",
    "#and here I call that function\n",
    "sayhello()\n",
    "\n",
    "#here is a function that returns a value\n",
    "def SetToFour():\n",
    "  return 4\n",
    "\n",
    "#here is some examples of using that function\n",
    "print(SetToFour())\n",
    "x = SetToFour()\n",
    "print(x)\n",
    "\n",
    "#here is a function that takes an argument and returns a value\n",
    "def AddFour(fx):\n",
    "  fx = fx + 4.0\n",
    "  return fx\n",
    "\n",
    "#an example using that function\n",
    "x = 3\n",
    "print(AddFour(x))\n",
    "print(AddFour(x))\n",
    "x = AddFour(x)\n",
    "x = AddFour(x)\n",
    "print(x)"
   ]
  },
  {
   "cell_type": "code",
   "execution_count": 35,
   "metadata": {},
   "outputs": [
    {
     "name": "stdout",
     "output_type": "stream",
     "text": [
      "Hello!\n",
      "Goodbye!\n"
     ]
    }
   ],
   "source": [
    "#once a function is defined, it can be called anywhere in the script\n",
    "sayhello()\n",
    "\n",
    "#when the commands run out, the program ends automatically\n",
    "print('Goodbye!')"
   ]
  }
 ],
 "metadata": {
  "interpreter": {
   "hash": "91423847b92848fd7e4299cd94176cfe797882b744a01e3f6a6d48730c768a49"
  },
  "kernelspec": {
   "display_name": "Python 3.9.2 64-bit",
   "language": "python",
   "name": "python3"
  },
  "language_info": {
   "codemirror_mode": {
    "name": "ipython",
    "version": 3
   },
   "file_extension": ".py",
   "mimetype": "text/x-python",
   "name": "python",
   "nbconvert_exporter": "python",
   "pygments_lexer": "ipython3",
   "version": "3.9.2"
  },
  "orig_nbformat": 4
 },
 "nbformat": 4,
 "nbformat_minor": 2
}
