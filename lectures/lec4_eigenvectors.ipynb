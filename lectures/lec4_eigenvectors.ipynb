{
 "cells": [
  {
   "cell_type": "markdown",
   "metadata": {},
   "source": [
    "Example of solving linearly coupled differential equations\n",
    "This will demonstate eigenvectors, dsolve for 2nd order differential equation, and solve for a system of equations."
   ]
  },
  {
   "cell_type": "code",
   "execution_count": 53,
   "metadata": {},
   "outputs": [],
   "source": [
    "import numpy as np\n",
    "from sympy import *"
   ]
  },
  {
   "cell_type": "code",
   "execution_count": 54,
   "metadata": {},
   "outputs": [
    {
     "data": {
      "image/png": "[encoded data removed]",
      "text/latex": [
       "$\\displaystyle \\left[\\begin{matrix}- w_{0}^{2} - w_{xy}^{2} & w_{xy}^{2}\\\\w_{xy}^{2} & - w_{0}^{2} - w_{xy}^{2}\\end{matrix}\\right]$"
      ],
      "text/plain": [
       "⎡    2         2            2    ⎤\n",
       "⎢- w₀  - w_{xy}       w_{xy}     ⎥\n",
       "⎢                                ⎥\n",
       "⎢          2          2         2⎥\n",
       "⎣    w_{xy}       - w₀  - w_{xy} ⎦"
      ]
     },
     "execution_count": 54,
     "metadata": {},
     "output_type": "execute_result"
    }
   ],
   "source": [
    "#oscillation symbols\n",
    "w0,wxy = symbols('w_0,w_{xy}', real=True, positive=True)\n",
    "\n",
    "#setup coupling matrix\n",
    "M = Matrix([ [-(w0**2+wxy**2), wxy**2],[wxy**2, -(w0**2+wxy**2)] ])\n",
    "M"
   ]
  },
  {
   "cell_type": "code",
   "execution_count": 55,
   "metadata": {},
   "outputs": [
    {
     "data": {
      "image/png": "[encoded data removed]",
      "text/latex": [
       "$\\displaystyle \\left[\\begin{matrix}-1\\\\1\\end{matrix}\\right]$"
      ],
      "text/plain": [
       "⎡-1⎤\n",
       "⎢  ⎥\n",
       "⎣1 ⎦"
      ]
     },
     "execution_count": 55,
     "metadata": {},
     "output_type": "execute_result"
    }
   ],
   "source": [
    "#obtain the eigenvalues and eigenvectors to diagonalize M\n",
    "Mvecs = M.eigenvects()\n",
    "\n",
    "#the indexing is a little complicated for eigenvects\n",
    "#first index corresponds to which eigenvalues\n",
    "#second index cooresponds to 0 eigenvalue, 1 multiplicity of eigenvalue, 2 eigenvector\n",
    "#third index corresponds to which eigenvector\n",
    "#in this example, there are two eigenvalues, each unique, each with only one eigenvector.\n",
    "e1 = Mvecs[0][0]\n",
    "e2 = Mvecs[1][0]\n",
    "v1 = Mvecs[0][2][0]\n",
    "v2 = Mvecs[1][2][0]\n",
    "v1\n",
    "v2"
   ]
  },
  {
   "cell_type": "code",
   "execution_count": 56,
   "metadata": {},
   "outputs": [
    {
     "data": {
      "image/png": "[encoded data removed]",
      "text/latex": [
       "$\\displaystyle C_{1} \\sin{\\left(t w_{0} \\right)} + C_{2} \\cos{\\left(t w_{0} \\right)}$"
      ],
      "text/plain": [
       "C₁⋅sin(t⋅w₀) + C₂⋅cos(t⋅w₀)"
      ]
     },
     "execution_count": 56,
     "metadata": {},
     "output_type": "execute_result"
    }
   ],
   "source": [
    "#our decoupled variables we will call u and v\n",
    "#the eigenvalues tell us which values go in the differential equations for u and v\n",
    "u = Function('u')\n",
    "v = Function('v')\n",
    "t = symbols('t', real=True)\n",
    "eq1 = Eq(u(t).diff(t,t) - e1*u(t),0)\n",
    "eq2 = Eq(v(t).diff(t,t) - e2*v(t),0)\n",
    "#we are now ready to solve the second-order differential equations\n",
    "u_r = dsolve(eq1, u(t)).simplify().rhs\n",
    "v_r = dsolve(eq2, v(t)).simplify().rhs\n",
    "u_r"
   ]
  },
  {
   "cell_type": "code",
   "execution_count": 57,
   "metadata": {},
   "outputs": [
    {
     "data": {
      "image/png": "[encoded data removed]",
      "text/latex": [
       "$\\displaystyle C_{1} \\sin{\\left(t \\sqrt{w_{0}^{2} + 2 w_{xy}^{2}} \\right)} + C_{2} \\cos{\\left(t \\sqrt{w_{0}^{2} + 2 w_{xy}^{2}} \\right)}$"
      ],
      "text/plain": [
       "      ⎛     _________________⎞         ⎛     _________________⎞\n",
       "      ⎜    ╱   2           2 ⎟         ⎜    ╱   2           2 ⎟\n",
       "C₁⋅sin⎝t⋅╲╱  w₀  + 2⋅w_{xy}  ⎠ + C₂⋅cos⎝t⋅╲╱  w₀  + 2⋅w_{xy}  ⎠"
      ]
     },
     "execution_count": 57,
     "metadata": {},
     "output_type": "execute_result"
    }
   ],
   "source": [
    "v_r"
   ]
  },
  {
   "cell_type": "code",
   "execution_count": 58,
   "metadata": {},
   "outputs": [
    {
     "name": "stdout",
     "output_type": "stream",
     "text": [
      "x + y\n",
      "-x + y\n"
     ]
    }
   ],
   "source": [
    "#the eigenvectors tell us how u and v relate to x and y\n",
    "x,y = symbols('x y', real=True)\n",
    "w = Matrix([x, y]).T\n",
    "u_l = (w*v1)[0]\n",
    "v_l = (w*v2)[0]\n",
    "print(u_l)\n",
    "print(v_l)"
   ]
  },
  {
   "cell_type": "code",
   "execution_count": 59,
   "metadata": {},
   "outputs": [
    {
     "name": "stdout",
     "output_type": "stream",
     "text": [
      "{x: C1*sin(t*w_0)/2 - C1*sin(t*sqrt(w_0**2 + 2*w_{xy}**2))/2 + C2*cos(t*w_0)/2 - C2*cos(t*sqrt(w_0**2 + 2*w_{xy}**2))/2, y: C1*sin(t*w_0)/2 + C1*sin(t*sqrt(w_0**2 + 2*w_{xy}**2))/2 + C2*cos(t*w_0)/2 + C2*cos(t*sqrt(w_0**2 + 2*w_{xy}**2))/2}\n",
      "The solution for x is:\n"
     ]
    },
    {
     "data": {
      "image/png": "[encoded data removed]",
      "text/latex": [
       "$\\displaystyle \\frac{C_{1} \\sin{\\left(t w_{0} \\right)}}{2} - \\frac{C_{1} \\sin{\\left(t \\sqrt{w_{0}^{2} + 2 w_{xy}^{2}} \\right)}}{2} + \\frac{C_{2} \\cos{\\left(t w_{0} \\right)}}{2} - \\frac{C_{2} \\cos{\\left(t \\sqrt{w_{0}^{2} + 2 w_{xy}^{2}} \\right)}}{2}$"
      ],
      "text/plain": [
       "                     ⎛     _________________⎞                        ⎛     ___\n",
       "                     ⎜    ╱   2           2 ⎟                        ⎜    ╱   \n",
       "C₁⋅sin(t⋅w₀)   C₁⋅sin⎝t⋅╲╱  w₀  + 2⋅w_{xy}  ⎠   C₂⋅cos(t⋅w₀)   C₂⋅cos⎝t⋅╲╱  w₀\n",
       "──────────── - ────────────────────────────── + ──────────── - ───────────────\n",
       "     2                       2                       2                       2\n",
       "\n",
       "______________⎞\n",
       "2           2 ⎟\n",
       "  + 2⋅w_{xy}  ⎠\n",
       "───────────────\n",
       "               "
      ]
     },
     "execution_count": 59,
     "metadata": {},
     "output_type": "execute_result"
    }
   ],
   "source": [
    "#now we can express the solution to the differential equation in terms of x and y\n",
    "sol_eq1 = Eq(u_l,u_r)\n",
    "sol_eq2 = Eq(v_l,v_r)\n",
    "#we can now use solve to get x and y on their own\n",
    "sol_xy = solve((sol_eq1,sol_eq2),(x,y))\n",
    "print(sol_xy)\n",
    "sol_x = sol_xy[x]\n",
    "sol_y = sol_xy[y]\n",
    "print('The solution for x is:')\n",
    "sol_x"
   ]
  },
  {
   "cell_type": "code",
   "execution_count": 60,
   "metadata": {},
   "outputs": [
    {
     "name": "stdout",
     "output_type": "stream",
     "text": [
      "The solution for y is:\n"
     ]
    },
    {
     "data": {
      "image/png": "[encoded data removed]",
      "text/latex": [
       "$\\displaystyle \\frac{C_{1} \\sin{\\left(t w_{0} \\right)}}{2} + \\frac{C_{1} \\sin{\\left(t \\sqrt{w_{0}^{2} + 2 w_{xy}^{2}} \\right)}}{2} + \\frac{C_{2} \\cos{\\left(t w_{0} \\right)}}{2} + \\frac{C_{2} \\cos{\\left(t \\sqrt{w_{0}^{2} + 2 w_{xy}^{2}} \\right)}}{2}$"
      ],
      "text/plain": [
       "                     ⎛     _________________⎞                        ⎛     ___\n",
       "                     ⎜    ╱   2           2 ⎟                        ⎜    ╱   \n",
       "C₁⋅sin(t⋅w₀)   C₁⋅sin⎝t⋅╲╱  w₀  + 2⋅w_{xy}  ⎠   C₂⋅cos(t⋅w₀)   C₂⋅cos⎝t⋅╲╱  w₀\n",
       "──────────── + ────────────────────────────── + ──────────── + ───────────────\n",
       "     2                       2                       2                       2\n",
       "\n",
       "______________⎞\n",
       "2           2 ⎟\n",
       "  + 2⋅w_{xy}  ⎠\n",
       "───────────────\n",
       "               "
      ]
     },
     "execution_count": 60,
     "metadata": {},
     "output_type": "execute_result"
    }
   ],
   "source": [
    "print('The solution for y is:')\n",
    "sol_y"
   ]
  },
  {
   "cell_type": "code",
   "execution_count": 61,
   "metadata": {},
   "outputs": [
    {
     "name": "stdout",
     "output_type": "stream",
     "text": [
      "2*v_{y0}/(w_0 + sqrt(w_0**2 + 2*w_{xy}**2))\n",
      "The solution for x is:\n"
     ]
    },
    {
     "data": {
      "image/png": "[encoded data removed]",
      "text/latex": [
       "$\\displaystyle \\frac{v_{y0} \\sin{\\left(t w_{0} \\right)}}{w_{0} + \\sqrt{w_{0}^{2} + 2 w_{xy}^{2}}} - \\frac{v_{y0} \\sin{\\left(t \\sqrt{w_{0}^{2} + 2 w_{xy}^{2}} \\right)}}{w_{0} + \\sqrt{w_{0}^{2} + 2 w_{xy}^{2}}} + \\frac{y_{0} \\cos{\\left(t w_{0} \\right)}}{2} - \\frac{y_{0} \\cos{\\left(t \\sqrt{w_{0}^{2} + 2 w_{xy}^{2}} \\right)}}{2}$"
      ],
      "text/plain": [
       "                                      ⎛     _________________⎞                \n",
       "                                      ⎜    ╱   2           2 ⎟                \n",
       "     v_{y0}⋅sin(t⋅w₀)       v_{y0}⋅sin⎝t⋅╲╱  w₀  + 2⋅w_{xy}  ⎠   y₀⋅cos(t⋅w₀) \n",
       "───────────────────────── - ────────────────────────────────── + ──────────── \n",
       "        _________________               _________________             2       \n",
       "       ╱   2           2               ╱   2           2                      \n",
       "w₀ + ╲╱  w₀  + 2⋅w_{xy}         w₀ + ╲╱  w₀  + 2⋅w_{xy}                       \n",
       "\n",
       "        ⎛     _________________⎞\n",
       "        ⎜    ╱   2           2 ⎟\n",
       "  y₀⋅cos⎝t⋅╲╱  w₀  + 2⋅w_{xy}  ⎠\n",
       "- ──────────────────────────────\n",
       "                2               \n",
       "                                \n",
       "                                "
      ]
     },
     "execution_count": 61,
     "metadata": {},
     "output_type": "execute_result"
    }
   ],
   "source": [
    "#the coefficients C1 and C2 can also be expressed in terms of initial conditions y0 and vy0\n",
    "#it is necesaary to declare C1 and C2 in order to make substitutions\n",
    "C1, C2 = symbols('C1,C2')\n",
    "y0, vy0 = symbols('y_0,v_{y0}')\n",
    "#we see that the y solution has a nontrivial value at t=0\n",
    "sol_x.subs(t,0)\n",
    "sol_y.subs(t,0)\n",
    "#we can now replace C2 with y0\n",
    "sol_x = sol_x.subs(C2,y0)\n",
    "sol_y = sol_y.subs(C2,y0)\n",
    "#now we see that dy/dt has C1 in it.\n",
    "sol_y.diff(t).subs(t,0)\n",
    "#set this expression equal to vy0, and solve for C1\n",
    "c1temp = solve(Eq(sol_y.diff(t).subs(t,0),vy0),C1)[0]\n",
    "print(c1temp)\n",
    "#finally we substitute our expression for C1 back in.\n",
    "sol_x = sol_x.subs(C1,c1temp)\n",
    "sol_y = sol_y.subs(C1,c1temp)\n",
    "print('The solution for x is:')\n",
    "sol_x"
   ]
  },
  {
   "cell_type": "code",
   "execution_count": 62,
   "metadata": {},
   "outputs": [
    {
     "name": "stdout",
     "output_type": "stream",
     "text": [
      "The solution for y is:\n"
     ]
    },
    {
     "data": {
      "image/png": "[encoded data removed]",
      "text/latex": [
       "$\\displaystyle \\frac{v_{y0} \\sin{\\left(t w_{0} \\right)}}{w_{0} + \\sqrt{w_{0}^{2} + 2 w_{xy}^{2}}} + \\frac{v_{y0} \\sin{\\left(t \\sqrt{w_{0}^{2} + 2 w_{xy}^{2}} \\right)}}{w_{0} + \\sqrt{w_{0}^{2} + 2 w_{xy}^{2}}} + \\frac{y_{0} \\cos{\\left(t w_{0} \\right)}}{2} + \\frac{y_{0} \\cos{\\left(t \\sqrt{w_{0}^{2} + 2 w_{xy}^{2}} \\right)}}{2}$"
      ],
      "text/plain": [
       "                                      ⎛     _________________⎞                \n",
       "                                      ⎜    ╱   2           2 ⎟                \n",
       "     v_{y0}⋅sin(t⋅w₀)       v_{y0}⋅sin⎝t⋅╲╱  w₀  + 2⋅w_{xy}  ⎠   y₀⋅cos(t⋅w₀) \n",
       "───────────────────────── + ────────────────────────────────── + ──────────── \n",
       "        _________________               _________________             2       \n",
       "       ╱   2           2               ╱   2           2                      \n",
       "w₀ + ╲╱  w₀  + 2⋅w_{xy}         w₀ + ╲╱  w₀  + 2⋅w_{xy}                       \n",
       "\n",
       "        ⎛     _________________⎞\n",
       "        ⎜    ╱   2           2 ⎟\n",
       "  y₀⋅cos⎝t⋅╲╱  w₀  + 2⋅w_{xy}  ⎠\n",
       "+ ──────────────────────────────\n",
       "                2               \n",
       "                                \n",
       "                                "
      ]
     },
     "execution_count": 62,
     "metadata": {},
     "output_type": "execute_result"
    }
   ],
   "source": [
    "print('The solution for y is:')\n",
    "sol_y\n",
    "#taking the extra step to use y0 and vy0 leaves a more complicated expression, but its more usable."
   ]
  },
  {
   "cell_type": "markdown",
   "metadata": {},
   "source": [
    "One last comment, you may know that solving a linear system of equations is equivalent to diagnolizing a matrix.\n",
    "So that means that we could have used the diagonalize method twice or the solve method twice, instead of one each"
   ]
  }
 ],
 "metadata": {
  "interpreter": {
   "hash": "91423847b92848fd7e4299cd94176cfe797882b744a01e3f6a6d48730c768a49"
  },
  "kernelspec": {
   "display_name": "Python 3.9.2 64-bit",
   "language": "python",
   "name": "python3"
  },
  "language_info": {
   "codemirror_mode": {
    "name": "ipython",
    "version": 3
   },
   "file_extension": ".py",
   "mimetype": "text/x-python",
   "name": "python",
   "nbconvert_exporter": "python",
   "pygments_lexer": "ipython3",
   "version": "3.9.2"
  },
  "orig_nbformat": 4
 },
 "nbformat": 4,
 "nbformat_minor": 2
}
