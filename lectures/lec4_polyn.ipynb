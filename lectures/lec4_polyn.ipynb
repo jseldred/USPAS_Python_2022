{
 "cells": [
  {
   "cell_type": "markdown",
   "metadata": {},
   "source": [
    "basic examples of sympy by manipulating polynomials"
   ]
  },
  {
   "cell_type": "code",
   "execution_count": 68,
   "metadata": {},
   "outputs": [],
   "source": [
    "import numpy as np\n",
    "from sympy import *\n",
    "import matplotlib.pyplot as plt"
   ]
  },
  {
   "cell_type": "markdown",
   "metadata": {},
   "source": [
    "Intro to Variables"
   ]
  },
  {
   "cell_type": "code",
   "execution_count": 69,
   "metadata": {},
   "outputs": [],
   "source": [
    "from sympy.abc import x\n",
    "#For one-letter symbolic variables, this another way to declare them\n",
    "#Functionally equivalent to x = symbols('x')"
   ]
  },
  {
   "cell_type": "code",
   "execution_count": 70,
   "metadata": {},
   "outputs": [
    {
     "data": {
      "text/latex": [
       "$\\displaystyle \\left(2 x + 3\\right)^{4}$"
      ],
      "text/plain": [
       "(2*x + 3)**4"
      ]
     },
     "execution_count": 70,
     "metadata": {},
     "output_type": "execute_result"
    }
   ],
   "source": [
    "#we can write a fourth power polynomial\n",
    "polynomial = (2*x + 3)**4\n",
    "#it outputs in the same format that we entered it.\n",
    "polynomial"
   ]
  },
  {
   "cell_type": "code",
   "execution_count": 71,
   "metadata": {},
   "outputs": [
    {
     "data": {
      "text/latex": [
       "$\\displaystyle 16 x^{4} + 96 x^{3} + 216 x^{2} + 216 x + 81$"
      ],
      "text/plain": [
       "16*x**4 + 96*x**3 + 216*x**2 + 216*x + 81"
      ]
     },
     "execution_count": 71,
     "metadata": {},
     "output_type": "execute_result"
    }
   ],
   "source": [
    "#we can expand the polynomial to see the coefficients of each power:\n",
    "poly_ex = polynomial.expand()\n",
    "poly_ex"
   ]
  },
  {
   "cell_type": "code",
   "execution_count": 72,
   "metadata": {},
   "outputs": [
    {
     "data": {
      "text/latex": [
       "$\\displaystyle \\left(2 x + 3\\right)^{4}$"
      ],
      "text/plain": [
       "(2*x + 3)**4"
      ]
     },
     "execution_count": 72,
     "metadata": {},
     "output_type": "execute_result"
    }
   ],
   "source": [
    "#The reverse operational is also possible\n",
    "poly_fct = poly_ex.factor()\n",
    "poly_fct"
   ]
  },
  {
   "cell_type": "code",
   "execution_count": 73,
   "metadata": {},
   "outputs": [
    {
     "name": "stdout",
     "output_type": "stream",
     "text": [
      "x**2*y - 3*x**2 + 4*x*y - 12*x + 4*y - 12\n",
      "4*y - 12\n",
      "x**2 + 4*x + 4\n",
      "4\n"
     ]
    }
   ],
   "source": [
    "#you can use multiple variables, and find specify coefficients\n",
    "y = symbols('y')\n",
    "poly_xy = ((y-3)*((x+2)**2)).expand()\n",
    "print(poly_xy)\n",
    "print(poly_xy.coeff(x))\n",
    "print(poly_xy.coeff(y))\n",
    "print(poly_xy.coeff(x*y))"
   ]
  },
  {
   "cell_type": "markdown",
   "metadata": {},
   "source": [
    "Equalities"
   ]
  },
  {
   "cell_type": "code",
   "execution_count": 74,
   "metadata": {},
   "outputs": [
    {
     "data": {
      "text/latex": [
       "$\\displaystyle \\text{True}$"
      ],
      "text/plain": [
       "True"
      ]
     },
     "execution_count": 74,
     "metadata": {},
     "output_type": "execute_result"
    }
   ],
   "source": [
    "#Sympy will recognize two expressions which are written in exactly the same way\n",
    "#This is setting up and equation which sets to two equal to each other.\n",
    "#the first term is the \"left-hand-side\" and the second term if the \"right-hand-side\"\n",
    "Eq(polynomial,poly_fct)"
   ]
  },
  {
   "cell_type": "code",
   "execution_count": 75,
   "metadata": {},
   "outputs": [
    {
     "data": {
      "text/latex": [
       "$\\displaystyle \\text{True}$"
      ],
      "text/plain": [
       "True"
      ]
     },
     "execution_count": 75,
     "metadata": {},
     "output_type": "execute_result"
    }
   ],
   "source": [
    "#Sympy will not immediately recognze two expression written in different ways\n",
    "Eq(poly_ex,poly_fct)\n",
    "#however you can ask it to check\n",
    "Eq(poly_ex,poly_fct).simplify()"
   ]
  },
  {
   "cell_type": "code",
   "execution_count": 76,
   "metadata": {},
   "outputs": [
    {
     "data": {
      "text/plain": [
       "False"
      ]
     },
     "execution_count": 76,
     "metadata": {},
     "output_type": "execute_result"
    }
   ],
   "source": [
    "#The same behavior will govern the == symbol\n",
    "polynomial == poly_fct\n",
    "poly_ex == poly_fct\n",
    "#It's okay to use sympy expressions in inequalities, so long as your script has a way to handle false negatives.\n",
    "#True means \"inviable fact of the universe\"\n",
    "#False means \"not been shown to be true\""
   ]
  },
  {
   "cell_type": "markdown",
   "metadata": {},
   "source": [
    "Differntiation and Integration"
   ]
  },
  {
   "cell_type": "code",
   "execution_count": 77,
   "metadata": {},
   "outputs": [
    {
     "data": {
      "text/latex": [
       "$\\displaystyle 8 \\left(2 x + 3\\right)^{3}$"
      ],
      "text/plain": [
       "8*(2*x + 3)**3"
      ]
     },
     "execution_count": 77,
     "metadata": {},
     "output_type": "execute_result"
    }
   ],
   "source": [
    "#derivative with respect to x\n",
    "poly_fct.diff(x)"
   ]
  },
  {
   "cell_type": "code",
   "execution_count": 78,
   "metadata": {},
   "outputs": [
    {
     "data": {
      "text/latex": [
       "$\\displaystyle \\frac{16 x^{5}}{5} + 24 x^{4} + 72 x^{3} + 108 x^{2} + 81 x$"
      ],
      "text/plain": [
       "16*x**5/5 + 24*x**4 + 72*x**3 + 108*x**2 + 81*x"
      ]
     },
     "execution_count": 78,
     "metadata": {},
     "output_type": "execute_result"
    }
   ],
   "source": [
    "#integral with respect to x\n",
    "integrate(poly_fct,x)\n",
    "#note that integrate doesn't produce factors of integration (although dsolve does)"
   ]
  },
  {
   "cell_type": "code",
   "execution_count": 79,
   "metadata": {},
   "outputs": [
    {
     "name": "stdout",
     "output_type": "stream",
     "text": [
      "x*(16*x**4 + 120*x**3 + 360*x**2 + 540*x + 405)/5\n",
      "108.0*x*(0.0296296296296296*x**4 + 0.222222222222222*x**3 + 0.666666666666667*x**2 + 1.0*x + 0.75)\n"
     ]
    },
    {
     "data": {
      "text/plain": [
       "{-15/8 + 3*sqrt(5)/8 - 3*sqrt(-5/32 - sqrt(5)/32): 1,\n",
       " -15/8 - 3*sqrt(5)/8 - 3*sqrt(-5/32 + sqrt(5)/32): 1,\n",
       " -15/8 - 3*sqrt(5)/8 + 3*sqrt(-5/32 + sqrt(5)/32): 1,\n",
       " -15/8 + 3*sqrt(5)/8 + 3*sqrt(-5/32 - sqrt(5)/32): 1,\n",
       " 0: 1}"
      ]
     },
     "execution_count": 79,
     "metadata": {},
     "output_type": "execute_result"
    }
   ],
   "source": [
    "#can it factor that?\n",
    "print(integrate(poly_fct,x).factor())\n",
    "#since we only used integers in specifying the coefficients, it thinks we don't want messy factors\n",
    "#compare what happens if we use floats in the equation\n",
    "print(integrate((2.0*x + 3)**4,x).factor())\n",
    "#factor is fairly limited though,\n",
    "#if we want a precise analytical answer, use roots\n",
    "roots(integrate(poly_fct,x))"
   ]
  },
  {
   "cell_type": "markdown",
   "metadata": {},
   "source": [
    "Solving an Equation"
   ]
  },
  {
   "cell_type": "code",
   "execution_count": 80,
   "metadata": {},
   "outputs": [
    {
     "data": {
      "text/plain": [
       "[y, (1 + I)*(y*(-1 - I) - 3)/2, (1 + I)*(y*(1 + I) + 3*I)/2, -y - 3]"
      ]
     },
     "execution_count": 80,
     "metadata": {},
     "output_type": "execute_result"
    }
   ],
   "source": [
    "#we can also ask sympy to solve an equation for us.\n",
    "polynomial = (2*x + 3)**4\n",
    "poly_y = (2*y + 3)**4\n",
    "eq=Eq(polynomial,poly_y)\n",
    "#solve takes an equation as the first arguemnet and the variable to solve for as the second\n",
    "sol = solve(eq,x)\n",
    "sol"
   ]
  },
  {
   "cell_type": "code",
   "execution_count": 81,
   "metadata": {},
   "outputs": [
    {
     "name": "stdout",
     "output_type": "stream",
     "text": [
      "y\n",
      "(1 + I)*(y*(-1 - I) - 3) + 3\n",
      "(2*y + 3)**4\n",
      "0\n"
     ]
    }
   ],
   "source": [
    "#the output gives us more than one solution, because it is a fourth order polynomial\n",
    "#the first solution is the one that we expect, x=y\n",
    "print(sol[0])\n",
    "#the second solution looks strange, is it really true?\n",
    "print(2*sol[1]+3)\n",
    "print(((2*sol[1]+3)**4).factor())\n",
    "print(((2*sol[1]+3)**4-poly_y).simplify())"
   ]
  },
  {
   "cell_type": "code",
   "execution_count": 82,
   "metadata": {},
   "outputs": [
    {
     "name": "stdout",
     "output_type": "stream",
     "text": [
      "-1\n"
     ]
    }
   ],
   "source": [
    "#here capital I is the imaginary number i.\n",
    "print(I**2)"
   ]
  },
  {
   "cell_type": "markdown",
   "metadata": {},
   "source": [
    "Plotting an Equation"
   ]
  },
  {
   "cell_type": "code",
   "execution_count": 83,
   "metadata": {},
   "outputs": [
    {
     "name": "stdout",
     "output_type": "stream",
     "text": [
      "(2*x + 3)**4\n",
      "(2*y + 1)**4\n"
     ]
    }
   ],
   "source": [
    "#substitute another variable into an expression\n",
    "print(polynomial)\n",
    "print(polynomial.subs(x,y-1))"
   ]
  },
  {
   "cell_type": "code",
   "execution_count": 84,
   "metadata": {},
   "outputs": [
    {
     "name": "stdout",
     "output_type": "stream",
     "text": [
      "1\n",
      "81\n",
      "625\n",
      "2401\n"
     ]
    }
   ],
   "source": [
    "#substitute a specific value into an expression\n",
    "print(polynomial.subs(x,-1))\n",
    "print(polynomial.subs(x,0))\n",
    "print(polynomial.subs(x,1))\n",
    "print(polynomial.subs(x,2))"
   ]
  },
  {
   "cell_type": "code",
   "execution_count": 85,
   "metadata": {},
   "outputs": [
    {
     "name": "stdout",
     "output_type": "stream",
     "text": [
      "<class 'sympy.core.power.Pow'>\n",
      "<class 'function'>\n"
     ]
    },
    {
     "data": {
      "image/png": "[encoded data removed]",
      "text/plain": [
       "<Figure size 432x288 with 1 Axes>"
      ]
     },
     "metadata": {
      "needs_background": "light"
     },
     "output_type": "display_data"
    }
   ],
   "source": [
    "#if you are going to make many function evaluations for plotting,\n",
    "#it's numerically faster to use lambdify\n",
    "fx = lambdify(x, polynomial)\n",
    "#fx is a normal function, no longer in the realm of sympy\n",
    "print(type(polynomial))\n",
    "print(type(fx))\n",
    "#make a 1D plot\n",
    "xvals = np.arange(-2,2,0.1)\n",
    "plt.plot(xvals,fx(xvals))\n",
    "plt.show()"
   ]
  },
  {
   "cell_type": "code",
   "execution_count": 87,
   "metadata": {},
   "outputs": [
    {
     "data": {
      "image/png": "[encoded data removed]",
      "text/plain": [
       "<Figure size 432x288 with 2 Axes>"
      ]
     },
     "metadata": {
      "needs_background": "light"
     },
     "output_type": "display_data"
    }
   ],
   "source": [
    "#Lambdify can also be used with multiple variables\n",
    "fxy = lambdify((x,y), (polynomial*poly_y)**(1/4))\n",
    "yvals = np.arange(-2,2,0.1)\n",
    "#create a meshgrid\n",
    "X, Y = np.meshgrid(xvals, yvals)\n",
    "#make a 2D plot\n",
    "plt.pcolormesh(X,Y,fxy(X,Y),shading='auto')\n",
    "plt.xlabel('X')\n",
    "plt.ylabel('Y')\n",
    "plt.colorbar()\n",
    "plt.show()"
   ]
  }
 ],
 "metadata": {
  "interpreter": {
   "hash": "91423847b92848fd7e4299cd94176cfe797882b744a01e3f6a6d48730c768a49"
  },
  "kernelspec": {
   "display_name": "Python 3.9.2 64-bit",
   "language": "python",
   "name": "python3"
  },
  "language_info": {
   "codemirror_mode": {
    "name": "ipython",
    "version": 3
   },
   "file_extension": ".py",
   "mimetype": "text/x-python",
   "name": "python",
   "nbconvert_exporter": "python",
   "pygments_lexer": "ipython3",
   "version": "3.9.2"
  },
  "orig_nbformat": 4
 },
 "nbformat": 4,
 "nbformat_minor": 2
}
