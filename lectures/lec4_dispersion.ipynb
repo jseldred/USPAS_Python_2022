{
 "cells": [
  {
   "cell_type": "markdown",
   "metadata": {},
   "source": [
    "Example of using symbolic manipulation on transfer matrices and imposing achromatic conditions"
   ]
  },
  {
   "cell_type": "code",
   "execution_count": 3,
   "metadata": {},
   "outputs": [],
   "source": [
    "import numpy as np\n",
    "from sympy import *\n",
    "#this statement will render rho and theta as Greek\n",
    "init_printing()\n",
    "\n",
    "#Declare symbolic variables, the more information the better.\n",
    "f1,L1,rho,th = symbols('f1,L1,rho,theta', real=True, positive=True)"
   ]
  },
  {
   "cell_type": "code",
   "execution_count": 4,
   "metadata": {},
   "outputs": [
    {
     "name": "stdout",
     "output_type": "stream",
     "text": [
      "Matrix([[1 - (L1 + rho*theta)/f1, L1*(1 - (L1 + rho*theta)/f1) + L1 + rho*theta*(1 - (L1 + rho*theta)/f1) + rho*theta, 0.5*rho*theta**2*(1 - (L1 + rho*theta)/f1) + 0.5*rho*theta**2 + theta*(L1*(1 - (L1 + rho*theta)/f1) + L1 + rho*theta)], [-1/f1, -L1/f1 + 1 - rho*theta/f1, theta*(-L1/f1 + 1) + theta - 0.5*rho*theta**2/f1], [0, 0, 1]])\n"
     ]
    },
    {
     "data": {
      "image/png": "[encoded data removed]",
      "text/latex": [
       "$\\displaystyle \\left[\\begin{matrix}1 - \\frac{L_{1} + \\rho \\theta}{f_{1}} & L_{1} \\left(1 - \\frac{L_{1} + \\rho \\theta}{f_{1}}\\right) + L_{1} + \\rho \\theta \\left(1 - \\frac{L_{1} + \\rho \\theta}{f_{1}}\\right) + \\rho \\theta & 0.5 \\rho \\theta^{2} \\left(1 - \\frac{L_{1} + \\rho \\theta}{f_{1}}\\right) + 0.5 \\rho \\theta^{2} + \\theta \\left(L_{1} \\left(1 - \\frac{L_{1} + \\rho \\theta}{f_{1}}\\right) + L_{1} + \\rho \\theta\\right)\\\\- \\frac{1}{f_{1}} & - \\frac{L_{1}}{f_{1}} + 1 - \\frac{\\rho \\theta}{f_{1}} & \\theta \\left(- \\frac{L_{1}}{f_{1}} + 1\\right) + \\theta - \\frac{0.5 \\rho \\theta^{2}}{f_{1}}\\\\0 & 0 & 1\\end{matrix}\\right]$"
      ],
      "text/plain": [
       "⎡    L₁ + ρ⋅θ     ⎛    L₁ + ρ⋅θ⎞            ⎛    L₁ + ρ⋅θ⎞               2 ⎛  \n",
       "⎢1 - ────────  L₁⋅⎜1 - ────────⎟ + L₁ + ρ⋅θ⋅⎜1 - ────────⎟ + ρ⋅θ  0.5⋅ρ⋅θ ⋅⎜1 \n",
       "⎢       f₁        ⎝       f₁   ⎠            ⎝       f₁   ⎠                 ⎝  \n",
       "⎢                                                                             \n",
       "⎢                                                                             \n",
       "⎢    -1                           L₁       ρ⋅θ                                \n",
       "⎢    ───                        - ── + 1 - ───                                \n",
       "⎢     f₁                          f₁        f₁                                \n",
       "⎢                                                                             \n",
       "⎣     0                                0                                      \n",
       "\n",
       "  L₁ + ρ⋅θ⎞          2     ⎛   ⎛    L₁ + ρ⋅θ⎞           ⎞⎤\n",
       "- ────────⎟ + 0.5⋅ρ⋅θ  + θ⋅⎜L₁⋅⎜1 - ────────⎟ + L₁ + ρ⋅θ⎟⎥\n",
       "     f₁   ⎠                ⎝   ⎝       f₁   ⎠           ⎠⎥\n",
       "                                                         ⎥\n",
       "                                   2                     ⎥\n",
       "           ⎛  L₁    ⎞       0.5⋅ρ⋅θ                      ⎥\n",
       "         θ⋅⎜- ── + 1⎟ + θ - ────────                     ⎥\n",
       "           ⎝  f₁    ⎠          f₁                        ⎥\n",
       "                                                         ⎥\n",
       "                      1                                  ⎦"
      ]
     },
     "execution_count": 4,
     "metadata": {},
     "output_type": "execute_result"
    }
   ],
   "source": [
    "#Dispersion matrices for a quadrupole,drift,dipole are given by\n",
    "QF = Matrix([[1, 0, 0], [-1/f1, 1, 0], [0, 0, 1]])\n",
    "O = Matrix([[1, L1, 0], [0, 1, 0], [0, 0, 1]])\n",
    "#B = Matrix([[cos(th), rho*sin(th), rho*(1-cos(th))], [-sin(th)/rho, cos(th), sin(th)], [0, 0, 1]])\n",
    "B = Matrix([[1, rho*th, 0.5*rho*(th**2)], [0, 1, th], [0, 0, 1]])\n",
    "\n",
    "#The simplest possible double-bend achromat cell has the lattice\n",
    "M=B*O*QF*O*B\n",
    "print(M)\n",
    "#when using symbolic variables in a jupyter notebook its often better not to use a print statement\n",
    "M"
   ]
  },
  {
   "cell_type": "code",
   "execution_count": 33,
   "metadata": {},
   "outputs": [
    {
     "name": "stdout",
     "output_type": "stream",
     "text": [
      "Eq(0.5*rho*th**2*(1 - (L1 + rho*th)/f1) + 0.5*rho*th**2 + th*(L1*(1 - (L1 + rho*th)/f1) + L1 + rho*th), 0)\n",
      "Eq(0.5*rho*th**2*(1 - (L1 + rho*th)/f1) + 0.5*rho*th**2 + th*(L1*(1 - (L1 + rho*th)/f1) + L1 + rho*th), 0)\n"
     ]
    },
    {
     "data": {
      "text/latex": [
       "$\\displaystyle 0.5 \\rho th^{2} \\left(1 - \\frac{L_{1} + \\rho th}{f_{1}}\\right) + 0.5 \\rho th^{2} + th \\left(L_{1} \\left(1 - \\frac{L_{1} + \\rho th}{f_{1}}\\right) + L_{1} + \\rho th\\right) = 0$"
      ],
      "text/plain": [
       "Eq(0.5*rho*th**2*(1 - (L1 + rho*th)/f1) + 0.5*rho*th**2 + th*(L1*(1 - (L1 + rho*th)/f1) + L1 + rho*th), 0)"
      ]
     },
     "execution_count": 33,
     "metadata": {},
     "output_type": "execute_result"
    }
   ],
   "source": [
    "#It is only achromatic if we further impose a condition.\n",
    "#Start with a zero-dispersion vector [D, D', 1] = [0,0,1]\n",
    "D = Matrix([[0], [0], [1]])\n",
    "#And after going thought the cell we should end up with a zero-dispersion vector\n",
    "eq1 = Eq((M*D)[0],0)\n",
    "eq2 = Eq((M*D)[0],0)\n",
    "print(eq1)\n",
    "print(eq2)\n",
    "#The equations are exactly the same,\n",
    "#in this case, the only way for D=0 is if D'=0\n",
    "eq1\n"
   ]
  },
  {
   "cell_type": "code",
   "execution_count": 38,
   "metadata": {},
   "outputs": [
    {
     "name": "stdout",
     "output_type": "stream",
     "text": [
      "[0.5*L1 + 0.25*rho*th]\n",
      "0.5*L1 + 0.25*rho*th\n",
      "The solution for f1 is:\n"
     ]
    },
    {
     "data": {
      "text/latex": [
       "$\\displaystyle 0.5 L_{1} + 0.25 \\rho th$"
      ],
      "text/plain": [
       "0.5*L1 + 0.25*rho*th"
      ]
     },
     "execution_count": 38,
     "metadata": {},
     "output_type": "execute_result"
    }
   ],
   "source": [
    "#now we solve this one equation for f1\n",
    "sf = solve(eq1,f1)\n",
    "print(sf)\n",
    "#the format is to list the self-consistent solutions, there is only one in this case.\n",
    "print(sf[0])\n",
    "\n",
    "print('The solution for f1 is:')\n",
    "sf[0]"
   ]
  },
  {
   "cell_type": "code",
   "execution_count": null,
   "metadata": {},
   "outputs": [],
   "source": []
  }
 ],
 "metadata": {
  "interpreter": {
   "hash": "91423847b92848fd7e4299cd94176cfe797882b744a01e3f6a6d48730c768a49"
  },
  "kernelspec": {
   "display_name": "Python 3.9.2 64-bit",
   "language": "python",
   "name": "python3"
  },
  "language_info": {
   "codemirror_mode": {
    "name": "ipython",
    "version": 3
   },
   "file_extension": ".py",
   "mimetype": "text/x-python",
   "name": "python",
   "nbconvert_exporter": "python",
   "pygments_lexer": "ipython3",
   "version": "3.9.2"
  },
  "orig_nbformat": 4
 },
 "nbformat": 4,
 "nbformat_minor": 2
}
