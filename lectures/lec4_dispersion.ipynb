{
 "cells": [
  {
   "cell_type": "markdown",
   "metadata": {},
   "source": [
    "Example of using symbolic manipulation on transfer matrices and imposing achromatic conditions"
   ]
  },
  {
   "cell_type": "code",
   "execution_count": 28,
   "metadata": {},
   "outputs": [],
   "source": [
    "import numpy as np\n",
    "from sympy import *\n",
    "\n",
    "#Declare symbolic variables, the more information the better.\n",
    "f1,L1,rho,th = symbols('f1,L1,rho,th', real=True, positive=True)"
   ]
  },
  {
   "cell_type": "code",
   "execution_count": 32,
   "metadata": {},
   "outputs": [
    {
     "name": "stdout",
     "output_type": "stream",
     "text": [
      "Matrix([[1 - (L1 + rho*th)/f1, L1*(1 - (L1 + rho*th)/f1) + L1 + rho*th*(1 - (L1 + rho*th)/f1) + rho*th, 0.5*rho*th**2*(1 - (L1 + rho*th)/f1) + 0.5*rho*th**2 + th*(L1*(1 - (L1 + rho*th)/f1) + L1 + rho*th)], [-1/f1, -L1/f1 + 1 - rho*th/f1, th*(-L1/f1 + 1) + th - 0.5*rho*th**2/f1], [0, 0, 1]])\n"
     ]
    },
    {
     "data": {
      "text/latex": [
       "$\\displaystyle \\left[\\begin{matrix}1 - \\frac{L_{1} + \\rho th}{f_{1}} & L_{1} \\left(1 - \\frac{L_{1} + \\rho th}{f_{1}}\\right) + L_{1} + \\rho th \\left(1 - \\frac{L_{1} + \\rho th}{f_{1}}\\right) + \\rho th & 0.5 \\rho th^{2} \\left(1 - \\frac{L_{1} + \\rho th}{f_{1}}\\right) + 0.5 \\rho th^{2} + th \\left(L_{1} \\left(1 - \\frac{L_{1} + \\rho th}{f_{1}}\\right) + L_{1} + \\rho th\\right)\\\\- \\frac{1}{f_{1}} & - \\frac{L_{1}}{f_{1}} + 1 - \\frac{\\rho th}{f_{1}} & th \\left(- \\frac{L_{1}}{f_{1}} + 1\\right) + th - \\frac{0.5 \\rho th^{2}}{f_{1}}\\\\0 & 0 & 1\\end{matrix}\\right]$"
      ],
      "text/plain": [
       "Matrix([\n",
       "[1 - (L1 + rho*th)/f1, L1*(1 - (L1 + rho*th)/f1) + L1 + rho*th*(1 - (L1 + rho*th)/f1) + rho*th, 0.5*rho*th**2*(1 - (L1 + rho*th)/f1) + 0.5*rho*th**2 + th*(L1*(1 - (L1 + rho*th)/f1) + L1 + rho*th)],\n",
       "[               -1/f1,                                                  -L1/f1 + 1 - rho*th/f1,                                                             th*(-L1/f1 + 1) + th - 0.5*rho*th**2/f1],\n",
       "[                   0,                                                                       0,                                                                                                   1]])"
      ]
     },
     "execution_count": 32,
     "metadata": {},
     "output_type": "execute_result"
    }
   ],
   "source": [
    "#Dispersion matrices for a quadrupole,drift,dipole are given by\n",
    "QF = Matrix([[1, 0, 0], [-1/f1, 1, 0], [0, 0, 1]])\n",
    "O = Matrix([[1, L1, 0], [0, 1, 0], [0, 0, 1]])\n",
    "#B = Matrix([[cos(th), rho*sin(th), rho*(1-cos(th))], [-sin(th)/rho, cos(th), sin(th)], [0, 0, 1]])\n",
    "B = Matrix([[1, rho*th, 0.5*rho*(th**2)], [0, 1, th], [0, 0, 1]])\n",
    "\n",
    "#The simplest possible double-bend achromat cell has the lattice\n",
    "M=B*O*QF*O*B\n",
    "print(M)\n",
    "#when using symbolic variables in a jupyter notebook its often better not to use a print statement\n",
    "M"
   ]
  },
  {
   "cell_type": "code",
   "execution_count": 33,
   "metadata": {},
   "outputs": [
    {
     "name": "stdout",
     "output_type": "stream",
     "text": [
      "Eq(0.5*rho*th**2*(1 - (L1 + rho*th)/f1) + 0.5*rho*th**2 + th*(L1*(1 - (L1 + rho*th)/f1) + L1 + rho*th), 0)\n",
      "Eq(0.5*rho*th**2*(1 - (L1 + rho*th)/f1) + 0.5*rho*th**2 + th*(L1*(1 - (L1 + rho*th)/f1) + L1 + rho*th), 0)\n"
     ]
    },
    {
     "data": {
      "text/latex": [
       "$\\displaystyle 0.5 \\rho th^{2} \\left(1 - \\frac{L_{1} + \\rho th}{f_{1}}\\right) + 0.5 \\rho th^{2} + th \\left(L_{1} \\left(1 - \\frac{L_{1} + \\rho th}{f_{1}}\\right) + L_{1} + \\rho th\\right) = 0$"
      ],
      "text/plain": [
       "Eq(0.5*rho*th**2*(1 - (L1 + rho*th)/f1) + 0.5*rho*th**2 + th*(L1*(1 - (L1 + rho*th)/f1) + L1 + rho*th), 0)"
      ]
     },
     "execution_count": 33,
     "metadata": {},
     "output_type": "execute_result"
    }
   ],
   "source": [
    "#It is only achromatic if we further impose a condition.\n",
    "#Start with a zero-dispersion vector [D, D', 1] = [0,0,1]\n",
    "D = Matrix([[0], [0], [1]])\n",
    "#And after going thought the cell we should end up with a zero-dispersion vector\n",
    "eq1 = Eq((M*D)[0],0)\n",
    "eq2 = Eq((M*D)[0],0)\n",
    "print(eq1)\n",
    "print(eq2)\n",
    "#The equations are exactly the same,\n",
    "#in this case, the only way for D=0 is if D'=0\n",
    "eq1\n"
   ]
  },
  {
   "cell_type": "code",
   "execution_count": 38,
   "metadata": {},
   "outputs": [
    {
     "name": "stdout",
     "output_type": "stream",
     "text": [
      "[0.5*L1 + 0.25*rho*th]\n",
      "0.5*L1 + 0.25*rho*th\n",
      "The solution for f1 is:\n"
     ]
    },
    {
     "data": {
      "text/latex": [
       "$\\displaystyle 0.5 L_{1} + 0.25 \\rho th$"
      ],
      "text/plain": [
       "0.5*L1 + 0.25*rho*th"
      ]
     },
     "execution_count": 38,
     "metadata": {},
     "output_type": "execute_result"
    }
   ],
   "source": [
    "#now we solve this one equation for f1\n",
    "sf = solve(eq1,f1)\n",
    "print(sf)\n",
    "#the format is to list the self-consistent solutions, there is only one in this case.\n",
    "print(sf[0])\n",
    "\n",
    "print('The solution for f1 is:')\n",
    "sf[0]"
   ]
  },
  {
   "cell_type": "code",
   "execution_count": null,
   "metadata": {},
   "outputs": [],
   "source": []
  }
 ],
 "metadata": {
  "interpreter": {
   "hash": "91423847b92848fd7e4299cd94176cfe797882b744a01e3f6a6d48730c768a49"
  },
  "kernelspec": {
   "display_name": "Python 3.9.2 64-bit",
   "language": "python",
   "name": "python3"
  },
  "language_info": {
   "codemirror_mode": {
    "name": "ipython",
    "version": 3
   },
   "file_extension": ".py",
   "mimetype": "text/x-python",
   "name": "python",
   "nbconvert_exporter": "python",
   "pygments_lexer": "ipython3",
   "version": "3.9.2"
  },
  "orig_nbformat": 4
 },
 "nbformat": 4,
 "nbformat_minor": 2
}
